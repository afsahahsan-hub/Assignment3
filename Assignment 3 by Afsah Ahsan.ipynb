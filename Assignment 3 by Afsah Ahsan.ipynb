{
 "cells": [
  {
   "cell_type": "markdown",
   "metadata": {},
   "source": [
    "# Q1:"
   ]
  },
  {
   "cell_type": "markdown",
   "metadata": {},
   "source": [
    "Think of at least three kinds of your favorite pizza. Store these pizza names in a list, and then use a for loop to print the name of each pizza."
   ]
  },
  {
   "cell_type": "code",
   "execution_count": 1,
   "metadata": {},
   "outputs": [],
   "source": [
    "pizza_names = [\"Peppy Paneer\",\"Double Cheese Pizza\",\"Gourmet\"]"
   ]
  },
  {
   "cell_type": "code",
   "execution_count": 3,
   "metadata": {},
   "outputs": [
    {
     "name": "stdout",
     "output_type": "stream",
     "text": [
      "Peppy Paneer\n",
      "Double Cheese Pizza\n",
      "Gourmet\n"
     ]
    }
   ],
   "source": [
    "for i in pizza_names:\n",
    "    print(i)"
   ]
  },
  {
   "cell_type": "code",
   "execution_count": null,
   "metadata": {},
   "outputs": [],
   "source": []
  },
  {
   "cell_type": "markdown",
   "metadata": {},
   "source": [
    "# Q2"
   ]
  },
  {
   "cell_type": "markdown",
   "metadata": {},
   "source": [
    "Start with your last question , Modify your for loop to print a sentence using the name of the pizza\n",
    "instead of printing just the name of the pizza. For each pizza you should\n",
    "have one line of output containing a simple statement like I like pepperoni\n",
    "pizza."
   ]
  },
  {
   "cell_type": "code",
   "execution_count": 4,
   "metadata": {},
   "outputs": [],
   "source": [
    "pizza_names = [\"Peppy Paneer\",\"Double Cheese Pizza\",\"Gourmet\"]"
   ]
  },
  {
   "cell_type": "code",
   "execution_count": 14,
   "metadata": {},
   "outputs": [
    {
     "name": "stdout",
     "output_type": "stream",
     "text": [
      "\n",
      "I like Peppy Paneer pizza\n",
      "\n",
      "I like Double Cheese Pizza pizza\n",
      "\n",
      "I like Gourmet pizza\n"
     ]
    }
   ],
   "source": [
    "for i in pizza_names:\n",
    "    print(f\"\\nI like {i} pizza\")"
   ]
  },
  {
   "cell_type": "code",
   "execution_count": null,
   "metadata": {},
   "outputs": [],
   "source": []
  },
  {
   "cell_type": "markdown",
   "metadata": {},
   "source": [
    "# Q3:"
   ]
  },
  {
   "cell_type": "markdown",
   "metadata": {},
   "source": [
    "Use a for loop to print the numbers from 1 to 20,\n",
    "inclusive."
   ]
  },
  {
   "cell_type": "code",
   "execution_count": 15,
   "metadata": {},
   "outputs": [
    {
     "name": "stdout",
     "output_type": "stream",
     "text": [
      "1\n",
      "2\n",
      "3\n",
      "4\n",
      "5\n",
      "6\n",
      "7\n",
      "8\n",
      "9\n",
      "10\n",
      "11\n",
      "12\n",
      "13\n",
      "14\n",
      "15\n",
      "16\n",
      "17\n",
      "18\n",
      "19\n",
      "20\n"
     ]
    }
   ],
   "source": [
    "for a in range(1,21):\n",
    "    print(a)"
   ]
  },
  {
   "cell_type": "code",
   "execution_count": null,
   "metadata": {},
   "outputs": [],
   "source": []
  },
  {
   "cell_type": "code",
   "execution_count": null,
   "metadata": {},
   "outputs": [],
   "source": []
  },
  {
   "cell_type": "markdown",
   "metadata": {},
   "source": [
    "# Q4:"
   ]
  },
  {
   "cell_type": "markdown",
   "metadata": {},
   "source": [
    "Use the third argument of the range() function to make a list\n",
    "of the odd numbers from 1 to 20. Use a for loop to print each number."
   ]
  },
  {
   "cell_type": "code",
   "execution_count": 19,
   "metadata": {},
   "outputs": [
    {
     "name": "stdout",
     "output_type": "stream",
     "text": [
      "1\n",
      "3\n",
      "5\n",
      "7\n",
      "9\n",
      "11\n",
      "13\n",
      "15\n",
      "17\n",
      "19\n"
     ]
    }
   ],
   "source": [
    "for a in range(1,21,2):\n",
    "    print(a)"
   ]
  },
  {
   "cell_type": "code",
   "execution_count": null,
   "metadata": {},
   "outputs": [],
   "source": []
  },
  {
   "cell_type": "code",
   "execution_count": null,
   "metadata": {},
   "outputs": [],
   "source": []
  },
  {
   "cell_type": "markdown",
   "metadata": {},
   "source": [
    "# Q5:"
   ]
  },
  {
   "cell_type": "markdown",
   "metadata": {},
   "source": [
    "Make a list of the multiples of 3 from 3 to 30. Use a for loop to\n",
    "print the numbers in your list."
   ]
  },
  {
   "cell_type": "code",
   "execution_count": 23,
   "metadata": {},
   "outputs": [
    {
     "name": "stdout",
     "output_type": "stream",
     "text": [
      "[9, 12, 15, 18, 21, 24, 27, 30, 33, 36, 39, 42, 45, 48, 51, 54, 57, 60, 63, 66, 69, 72, 75, 78, 81, 84, 87, 90]\n"
     ]
    }
   ],
   "source": [
    "multiples = [i*3 for i in range(3,31)]\n",
    "print(multiples)"
   ]
  },
  {
   "cell_type": "code",
   "execution_count": null,
   "metadata": {},
   "outputs": [],
   "source": []
  },
  {
   "cell_type": "code",
   "execution_count": null,
   "metadata": {},
   "outputs": [],
   "source": []
  },
  {
   "cell_type": "code",
   "execution_count": null,
   "metadata": {},
   "outputs": [],
   "source": []
  },
  {
   "cell_type": "markdown",
   "metadata": {},
   "source": [
    "# Q6:"
   ]
  },
  {
   "cell_type": "markdown",
   "metadata": {},
   "source": [
    "A number raised to the third power is called a cube. For example,\n",
    "the cube of 2 is written as 2**3 in Python. Make a list of the first 10 cubes (that\n",
    "is, the cube of each integer from 1 through 10), and use a for loop to print out\n",
    "the value of each cube"
   ]
  },
  {
   "cell_type": "code",
   "execution_count": 25,
   "metadata": {},
   "outputs": [
    {
     "name": "stdout",
     "output_type": "stream",
     "text": [
      "[1, 8, 27, 64, 125, 216, 343, 512, 729, 1000]\n"
     ]
    }
   ],
   "source": [
    "cube = [i**3 for i in range(1,11)]\n",
    "print(cube)"
   ]
  },
  {
   "cell_type": "code",
   "execution_count": null,
   "metadata": {},
   "outputs": [],
   "source": []
  },
  {
   "cell_type": "code",
   "execution_count": null,
   "metadata": {},
   "outputs": [],
   "source": []
  },
  {
   "cell_type": "code",
   "execution_count": null,
   "metadata": {},
   "outputs": [],
   "source": []
  },
  {
   "cell_type": "markdown",
   "metadata": {},
   "source": [
    "# Q7:"
   ]
  },
  {
   "cell_type": "markdown",
   "metadata": {},
   "source": [
    "###### Make a python program that conatains your nine favourite dishes in a list called foods.\n",
    "\n",
    "###### Print the message, The first three items in the list are:. \n",
    "###### Then use a slice to print the first three items from that program’s list.\n",
    "\n",
    "###### Print the message, Three items from the middle of the list are:\n",
    "###### Use a slice to print three items from the middle of the list.\n",
    "\n",
    "###### Print the message, The last three items in the list are:\n",
    "###### Use a slice to print the last three items in the list."
   ]
  },
  {
   "cell_type": "code",
   "execution_count": 29,
   "metadata": {},
   "outputs": [],
   "source": [
    "food = [\"burger\",\"biryani\",\"pizza\",\"karhai\",\"custard\",\"chocolate\",\"fish\",\"rice\",\"roll\"]"
   ]
  },
  {
   "cell_type": "code",
   "execution_count": 30,
   "metadata": {},
   "outputs": [
    {
     "name": "stdout",
     "output_type": "stream",
     "text": [
      "The first three items in the list are: ['burger', 'biryani', 'pizza']\n"
     ]
    }
   ],
   "source": [
    "print(f\"The first three items in the list are: {food[:3]}\")"
   ]
  },
  {
   "cell_type": "code",
   "execution_count": 32,
   "metadata": {},
   "outputs": [
    {
     "name": "stdout",
     "output_type": "stream",
     "text": [
      "Three items from the middle of the list are: ['karhai', 'custard', 'chocolate']\n"
     ]
    }
   ],
   "source": [
    "print(f\"Three items from the middle of the list are: {food[3:6]}\")"
   ]
  },
  {
   "cell_type": "code",
   "execution_count": 34,
   "metadata": {},
   "outputs": [
    {
     "name": "stdout",
     "output_type": "stream",
     "text": [
      "The last three items in the list are: ['fish', 'rice', 'roll']\n"
     ]
    }
   ],
   "source": [
    "print(f\"The last three items in the list are: {food[6:]}\")"
   ]
  },
  {
   "cell_type": "code",
   "execution_count": null,
   "metadata": {},
   "outputs": [],
   "source": []
  },
  {
   "cell_type": "code",
   "execution_count": null,
   "metadata": {},
   "outputs": [],
   "source": []
  },
  {
   "cell_type": "code",
   "execution_count": null,
   "metadata": {},
   "outputs": [],
   "source": []
  },
  {
   "cell_type": "markdown",
   "metadata": {},
   "source": [
    "# Q8:"
   ]
  },
  {
   "cell_type": "markdown",
   "metadata": {},
   "source": [
    "### Start with your program from your last Question8.\n",
    "###### Make a copy of the list of foods, and call it friend_foods.\n",
    "###### Then, do the following:\n",
    "######    Add a new dish to the original list.\n",
    "######    Add a different dish to the list friend_foodss.\n",
    "######    Prove that you have two separate lists. \n",
    "###### Print the message, My favorite pizzas are: and then use a for loop to print the first list. \n",
    "###### Print the message,\n",
    "###### My friend’s favorite foods are:, and then use a for loop to print the second list.\n",
    "    \n",
    "##### NOTE: Make sure each new dish is stored in the appropriate list."
   ]
  },
  {
   "cell_type": "code",
   "execution_count": 41,
   "metadata": {},
   "outputs": [],
   "source": [
    "food = [\"burger\",\"biryani\",\"pizza\",\"karhai\",\"custard\",\"chocolate\",\"fish\",\"rice\",\"roll\"]"
   ]
  },
  {
   "cell_type": "code",
   "execution_count": 44,
   "metadata": {},
   "outputs": [
    {
     "name": "stdout",
     "output_type": "stream",
     "text": [
      "['burger', 'biryani', 'pizza', 'karhai', 'custard', 'chocolate', 'fish', 'rice', 'roll', 'lasagna', 'lasagna']\n"
     ]
    }
   ],
   "source": [
    "food.append(\"lasagna\")\n",
    "print(food)"
   ]
  },
  {
   "cell_type": "code",
   "execution_count": 46,
   "metadata": {},
   "outputs": [],
   "source": [
    "friend_foods = [\"burger\",\"biryani\",\"pizza\",\"karhai\",\"custard\",\"chocolate\",\"fish\",\"rice\",\"roll\"]"
   ]
  },
  {
   "cell_type": "code",
   "execution_count": 47,
   "metadata": {},
   "outputs": [
    {
     "name": "stdout",
     "output_type": "stream",
     "text": [
      "['burger', 'biryani', 'pizza', 'karhai', 'custard', 'chocolate', 'fish', 'rice', 'roll', 'tikka']\n"
     ]
    }
   ],
   "source": [
    "friend_foods.append(\"tikka\")\n",
    "print(friend_foods)"
   ]
  },
  {
   "cell_type": "code",
   "execution_count": 48,
   "metadata": {},
   "outputs": [
    {
     "name": "stdout",
     "output_type": "stream",
     "text": [
      "['burger', 'biryani', 'pizza', 'karhai', 'custard', 'chocolate', 'fish', 'rice', 'roll', 'lasagna', 'lasagna']\n",
      "['burger', 'biryani', 'pizza', 'karhai', 'custard', 'chocolate', 'fish', 'rice', 'roll', 'tikka']\n"
     ]
    }
   ],
   "source": [
    "print(food)\n",
    "print(friend_foods)"
   ]
  },
  {
   "cell_type": "code",
   "execution_count": 54,
   "metadata": {},
   "outputs": [
    {
     "name": "stdout",
     "output_type": "stream",
     "text": [
      "My favorite foods are: \n",
      "burger\n",
      "biryani\n",
      "pizza\n",
      "karhai\n",
      "custard\n",
      "chocolate\n",
      "fish\n",
      "rice\n",
      "roll\n",
      "lasagna\n",
      "lasagna\n"
     ]
    }
   ],
   "source": [
    "print(\"My favorite foods are: \")\n",
    "for f in food:\n",
    "    print(f)"
   ]
  },
  {
   "cell_type": "code",
   "execution_count": 55,
   "metadata": {},
   "outputs": [
    {
     "name": "stdout",
     "output_type": "stream",
     "text": [
      "My friends favorite foods are: \n",
      "burger\n",
      "biryani\n",
      "pizza\n",
      "karhai\n",
      "custard\n",
      "chocolate\n",
      "fish\n",
      "rice\n",
      "roll\n",
      "tikka\n"
     ]
    }
   ],
   "source": [
    "print(\"My friends favorite foods are: \")\n",
    "for ff in friend_foods:\n",
    "    print(ff)"
   ]
  },
  {
   "cell_type": "markdown",
   "metadata": {},
   "source": [
    "# Q9:"
   ]
  },
  {
   "cell_type": "markdown",
   "metadata": {},
   "source": [
    "Take a user input from console line.Store it in a variable called Alien_color.\n",
    "\n",
    "If the alien’s color is red, print a statement that the player just earned 5 points for shooting the alien.\n",
    "\n",
    "If the alien’s color isn’t green, print a statement that the player just earned 10 points.\n",
    "\n",
    "If the alien's color isn't red or green , print a statment :, Alien is no more....."
   ]
  },
  {
   "cell_type": "code",
   "execution_count": 68,
   "metadata": {},
   "outputs": [
    {
     "name": "stdout",
     "output_type": "stream",
     "text": [
      "Enter a color: Green\n",
      "Alien is no more.....\n"
     ]
    }
   ],
   "source": [
    "Alien_color = input(\"Enter a color: \")\n",
    "if Alien_color == 'Red':\n",
    "    print(\"The player just earned 5 points for shooting the alien.\")\n",
    "if Alien_color != 'Green':\n",
    "    print(\"The player just earned 10 points.\")\n",
    "if Alien_color != 'Green' or 'Red':\n",
    "    print(\"Alien is no more.....\")"
   ]
  },
  {
   "cell_type": "code",
   "execution_count": null,
   "metadata": {},
   "outputs": [],
   "source": []
  },
  {
   "cell_type": "code",
   "execution_count": null,
   "metadata": {},
   "outputs": [],
   "source": []
  },
  {
   "cell_type": "code",
   "execution_count": null,
   "metadata": {},
   "outputs": [],
   "source": []
  },
  {
   "cell_type": "markdown",
   "metadata": {},
   "source": [
    "# Q10:"
   ]
  },
  {
   "cell_type": "markdown",
   "metadata": {},
   "source": [
    "Write an if-elif-else chain that determines a person’s\n",
    "stage of life. Set a value for the variable age, and then:\n",
    "    \n",
    "•\t If the person is less than 2 years old, print a message that the person is a baby.\n",
    "\n",
    "•\t If the person is at least 2 years old but less than 4, print a message that the person is a toddler.\n",
    "\n",
    "•\t If the person is at least 4 years old but less than 13, print a message that the person is a kid.\n",
    "\n",
    "•\t If the person is at least 13 years old but less than 20, print a message that the person is a teenager.\n",
    "\n",
    "•\t If the person is at least 20 years old but less than 65, print a message that the person is an adult.\n",
    "\n",
    "•\t If the person is age 65 or older, print a message that the person is an elder."
   ]
  },
  {
   "cell_type": "code",
   "execution_count": 77,
   "metadata": {},
   "outputs": [
    {
     "name": "stdout",
     "output_type": "stream",
     "text": [
      "Enter your age that determines your stage of life: 23\n",
      "The person is an adult\n"
     ]
    }
   ],
   "source": [
    "age = int(input(\"Enter your age that determines your stage of life: \"))\n",
    "if age < 2:\n",
    "    print(\"The person is a baby\")\n",
    "elif age <= 4:\n",
    "    print(\"The person is a toddler\")\n",
    "elif age <= 13:\n",
    "    print(\"The person is a kid\")\n",
    "elif age <= 20:\n",
    "    print(\"The person is a teenager\")\n",
    "elif age <= 65:\n",
    "    print(\"The person is an adult\")\n",
    "else:\n",
    "    print(\"The person is an elder\")"
   ]
  },
  {
   "cell_type": "code",
   "execution_count": null,
   "metadata": {},
   "outputs": [],
   "source": []
  },
  {
   "cell_type": "code",
   "execution_count": null,
   "metadata": {},
   "outputs": [],
   "source": []
  },
  {
   "cell_type": "code",
   "execution_count": null,
   "metadata": {},
   "outputs": [],
   "source": []
  },
  {
   "cell_type": "code",
   "execution_count": null,
   "metadata": {},
   "outputs": [],
   "source": []
  },
  {
   "cell_type": "code",
   "execution_count": null,
   "metadata": {},
   "outputs": [],
   "source": []
  },
  {
   "cell_type": "markdown",
   "metadata": {},
   "source": [
    "# Q11:"
   ]
  },
  {
   "cell_type": "markdown",
   "metadata": {},
   "source": [
    "Do the following to create a program that simulates how websites ensure that everyone has a unique username.\n",
    "\n",
    "•\t Make a list of five or more usernames called current_users.\n",
    "\n",
    "•\t Make another list of five usernames called new_users. \n",
    "Make sure one or two of the new usernames are also in the current_users list.\n",
    "\n",
    "•\t Loop through the new_users list to see if each new username has already been used. \n",
    "If it has, print a message that the person will need to enter a new username. \n",
    "If a username has not been used, print a message saying that the username is available.\n",
    "\n",
    "•\t Make sure your comparison is case insensitive. If 'John' has been used, 'JOHN' should not be accepted."
   ]
  },
  {
   "cell_type": "code",
   "execution_count": 3,
   "metadata": {},
   "outputs": [],
   "source": [
    "current_users = [\"Afsah\",\"Aiman\",\"Nabeel\",\"Fiza\",\"Ahsan\"]"
   ]
  },
  {
   "cell_type": "code",
   "execution_count": 9,
   "metadata": {},
   "outputs": [],
   "source": [
    "new_users = [\"Ahsan\",\"Shahana\",\"Syed\",\"Afsah\",\"Fatima\"]"
   ]
  },
  {
   "cell_type": "code",
   "execution_count": 10,
   "metadata": {},
   "outputs": [],
   "source": [
    "current_users_lower = [i.lower() for i in current_users]\n",
    "new_users_lower = [i.lower() for i in new_users]"
   ]
  },
  {
   "cell_type": "code",
   "execution_count": 11,
   "metadata": {},
   "outputs": [
    {
     "name": "stdout",
     "output_type": "stream",
     "text": [
      "Sorry! You have to enter a new username ahsan it is already be taken\n",
      "Great! shahana the username is availabe\n",
      "Great! syed the username is availabe\n",
      "Sorry! You have to enter a new username afsah it is already be taken\n",
      "Great! fatima the username is availabe\n"
     ]
    }
   ],
   "source": [
    "for new_users in new_users_lower:\n",
    "    if new_users in current_users_lower:\n",
    "        print(f\"Sorry! You have to enter a new username {new_users} it is already be taken\")\n",
    "    else:\n",
    "        print(f\"Great! {new_users} the username is availabe\")"
   ]
  },
  {
   "cell_type": "markdown",
   "metadata": {},
   "source": [
    "# Q12:"
   ]
  },
  {
   "cell_type": "markdown",
   "metadata": {},
   "source": [
    "Use a dictionary to store information about a person you know.\n",
    "Store their first name, last name, age, and the city in which they live. \n",
    "You should have keys such as first_name, last_name, age, and city. \n",
    "Print each piece of information stored in your dictionary"
   ]
  },
  {
   "cell_type": "code",
   "execution_count": 14,
   "metadata": {},
   "outputs": [
    {
     "name": "stdout",
     "output_type": "stream",
     "text": [
      "{'first_name': 'Afsah', 'last_name': 'Ahsan', 'age': '23', 'city': 'Karachi'}\n"
     ]
    }
   ],
   "source": [
    "Info = {\"first_name\":\"Afsah\", \"last_name\":\"Ahsan\", \"age\":\"23\",\"city\":\"Karachi\"}\n",
    "print(Info)"
   ]
  },
  {
   "cell_type": "code",
   "execution_count": 28,
   "metadata": {},
   "outputs": [
    {
     "name": "stdout",
     "output_type": "stream",
     "text": [
      "first_name\n",
      "last_name\n",
      "age\n",
      "city\n"
     ]
    }
   ],
   "source": [
    "for key in Info.keys():\n",
    "    print(key)"
   ]
  },
  {
   "cell_type": "code",
   "execution_count": 24,
   "metadata": {},
   "outputs": [
    {
     "name": "stdout",
     "output_type": "stream",
     "text": [
      "Afsah\n",
      "Ahsan\n",
      "23\n",
      "Karachi\n"
     ]
    }
   ],
   "source": [
    "for val in Info.values():\n",
    "    print(val)"
   ]
  },
  {
   "cell_type": "code",
   "execution_count": null,
   "metadata": {},
   "outputs": [],
   "source": []
  },
  {
   "cell_type": "markdown",
   "metadata": {},
   "source": [
    "# Q13:"
   ]
  },
  {
   "cell_type": "markdown",
   "metadata": {},
   "source": [
    "Starts with your last question 12 , loop through the dictionary’s keys and values.\n",
    "When you’re sure that your loop works, add five more Python terms to your\n",
    "dictionary . When you run your program again, these new words and meanings\n",
    "should automatically be included in the output."
   ]
  },
  {
   "cell_type": "code",
   "execution_count": 31,
   "metadata": {},
   "outputs": [
    {
     "name": "stdout",
     "output_type": "stream",
     "text": [
      "Key: first_name\n",
      "Vlaue: Afsah\n",
      "Key: last_name\n",
      "Vlaue: Ahsan\n",
      "Key: age\n",
      "Vlaue: 23\n",
      "Key: city\n",
      "Vlaue: Karachi\n"
     ]
    }
   ],
   "source": [
    "for keys,values in Info.items():\n",
    "    print(\"Key:\",keys)\n",
    "    print(\"Vlaue:\",values)"
   ]
  },
  {
   "cell_type": "code",
   "execution_count": 36,
   "metadata": {},
   "outputs": [],
   "source": [
    "Info['variable']= \" Liable to change\"\n",
    "Info[\"Data_types\"] = \"Defined by the values it can take\"\n",
    "Info[\"List\"] = \"Record of short pieces of information\"\n",
    "Info[\"Functions\"] = \"It is a relation that uniquely associates members of one set with members of another set\" \n",
    "Info[\"Classes\"] = \"Number of persons or things regarded as forming a group by reason of common attributes\""
   ]
  },
  {
   "cell_type": "code",
   "execution_count": 38,
   "metadata": {},
   "outputs": [
    {
     "name": "stdout",
     "output_type": "stream",
     "text": [
      "first_name\n",
      "last_name\n",
      "age\n",
      "city\n",
      "variable\n",
      "Data_types\n",
      "List\n",
      "Functions\n",
      "Classes\n"
     ]
    }
   ],
   "source": [
    "for key in Info.keys():\n",
    "    print(key)"
   ]
  },
  {
   "cell_type": "code",
   "execution_count": 40,
   "metadata": {},
   "outputs": [
    {
     "name": "stdout",
     "output_type": "stream",
     "text": [
      "Afsah\n",
      "Ahsan\n",
      "23\n",
      "Karachi\n",
      " Liable to change\n",
      "Defined by the values it can take\n",
      "Record of short pieces of information\n",
      "It is a relation that uniquely associates members of one set with members of another set\n",
      "Number of persons or things regarded as forming a group by reason of common attributes\n"
     ]
    }
   ],
   "source": [
    "for val in Info.values():\n",
    "    print(val)"
   ]
  },
  {
   "cell_type": "code",
   "execution_count": 42,
   "metadata": {},
   "outputs": [
    {
     "name": "stdout",
     "output_type": "stream",
     "text": [
      "('first_name', 'Afsah')\n",
      "('last_name', 'Ahsan')\n",
      "('age', '23')\n",
      "('city', 'Karachi')\n",
      "('variable', ' Liable to change')\n",
      "('Data_types', 'Defined by the values it can take')\n",
      "('List', 'Record of short pieces of information')\n",
      "('Functions', 'It is a relation that uniquely associates members of one set with members of another set')\n",
      "('Classes', 'Number of persons or things regarded as forming a group by reason of common attributes')\n"
     ]
    }
   ],
   "source": [
    "for item in Info.items():\n",
    "    print(item)"
   ]
  },
  {
   "cell_type": "markdown",
   "metadata": {},
   "source": [
    "# Q14:"
   ]
  },
  {
   "cell_type": "markdown",
   "metadata": {},
   "source": [
    "Make a dictionary containing three major rivers and the country\n",
    "each river runs through. One key-value pair might be 'nile': 'egypt'.\n",
    "    \n",
    "    \n",
    "•\t Use a loop to print a sentence about each river, such as The Nile runs\n",
    "through Egypt.\n",
    "\n",
    "NOTE: use upper case through keys and values."
   ]
  },
  {
   "cell_type": "code",
   "execution_count": 46,
   "metadata": {},
   "outputs": [],
   "source": [
    "rivers = {\"neelum\":\"pakistan\", \"ganga\":\"india\", \"kabul\":\"afghanistan\"}"
   ]
  },
  {
   "cell_type": "code",
   "execution_count": 47,
   "metadata": {},
   "outputs": [
    {
     "name": "stdout",
     "output_type": "stream",
     "text": [
      "The NEELUM runs through PAKISTAN.\n",
      "The GANGA runs through INDIA.\n",
      "The KABUL runs through AFGHANISTAN.\n"
     ]
    }
   ],
   "source": [
    "for river,country  in rivers.items():\n",
    "    print(\"The \" + river.upper() + \" runs through \" + country.upper()+ \".\")"
   ]
  },
  {
   "cell_type": "code",
   "execution_count": null,
   "metadata": {},
   "outputs": [],
   "source": []
  },
  {
   "cell_type": "markdown",
   "metadata": {},
   "source": [
    "# Q15:"
   ]
  },
  {
   "cell_type": "markdown",
   "metadata": {},
   "source": [
    "Make several dictionaries, where the name of each dictionary is the\n",
    "name of a pet. In each dictionary, include the kind of animal and the owner’s\n",
    "name. Store these dictionaries in a list called pets. Next, loop through your list\n",
    "and as you do print everything you know about each pet."
   ]
  },
  {
   "cell_type": "code",
   "execution_count": 63,
   "metadata": {},
   "outputs": [
    {
     "name": "stdout",
     "output_type": "stream",
     "text": [
      "{'Animal': 'Dog', 'Owner': 'Afsah'}\n",
      "{'Animal': 'Cat', 'Owners': 'Ahsan'}\n",
      "{'Animal': 'Birds', 'Owners': 'Aiman'}\n",
      "{'Animal': 'Rabbit', 'Owners': 'Fiza'}\n",
      "{'Animal': 'Chicks', 'Owners': 'Nabeel'}\n"
     ]
    }
   ],
   "source": [
    "dog = {\"Animal\":\"Dog\", \"Owner\":\"Afsah\"}\n",
    "cat = {\"Animal\":\"Cat\", \"Owners\":\"Ahsan\"}\n",
    "bird = {\"Animal\":\"Birds\", \"Owners\":\"Aiman\"}\n",
    "rabbit = {\"Animal\":\"Rabbit\", \"Owners\":\"Fiza\"}\n",
    "chicks = {\"Animal\":\"Chicks\", \"Owners\":\"Nabeel\"}\n",
    "Pets = [dog, cat, bird, rabbit, chicks]\n",
    "for pet in Pets:\n",
    "    print(pet)"
   ]
  },
  {
   "cell_type": "code",
   "execution_count": 72,
   "metadata": {},
   "outputs": [
    {
     "name": "stdout",
     "output_type": "stream",
     "text": [
      "Animal: Dog\n",
      "Owner: Afsah\n",
      "Animal: Cat\n",
      "Owners: Ahsan\n",
      "Animal: Birds\n",
      "Owners: Aiman\n",
      "Animal: Rabbit\n",
      "Owners: Fiza\n",
      "Animal: Chicks\n",
      "Owners: Nabeel\n"
     ]
    }
   ],
   "source": [
    "for k,v in dog.items():\n",
    "    print(k+ \":\",v)\n",
    "for k,v in cat.items():\n",
    "    print(k+\":\",v)\n",
    "for k,v in bird.items():\n",
    "    print(k+\":\",v)\n",
    "for k,v in rabbit.items():\n",
    "    print(k+\":\",v)\n",
    "for k,v in chicks.items():\n",
    "    print(k+\":\",v)"
   ]
  },
  {
   "cell_type": "code",
   "execution_count": null,
   "metadata": {},
   "outputs": [],
   "source": []
  }
 ],
 "metadata": {
  "kernelspec": {
   "display_name": "Python 3",
   "language": "python",
   "name": "python3"
  },
  "language_info": {
   "codemirror_mode": {
    "name": "ipython",
    "version": 3
   },
   "file_extension": ".py",
   "mimetype": "text/x-python",
   "name": "python",
   "nbconvert_exporter": "python",
   "pygments_lexer": "ipython3",
   "version": "3.7.3"
  }
 },
 "nbformat": 4,
 "nbformat_minor": 2
}
